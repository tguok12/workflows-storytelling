{
 "cells": [
  {
   "cell_type": "markdown",
   "metadata": {},
   "source": [
    "<img src=\"../images/galvanize-logo.png\" alt=\"galvanize-logo\" align=\"center\" style=\"width: 200px;\"/>\n",
    "\n",
    "<hr />\n",
    "\n",
    "# Assignment - Storytelling"
   ]
  },
  {
   "cell_type": "markdown",
   "metadata": {},
   "source": [
    "## The backstory\n",
    "\n",
    "\n",
    "Let's imagine a fictional online education company called *Kalvanize*.  They have a team of talented data scientists and engineers that have been able to turn convert educational videos into dozens of other languages.  The video that a subscriber of this service clicks on is piped through cloud resources managed by Kalvanize and both the voice and the movement of the lips are modified to match the language the subscriber has selected.  The service even works for certain languages *on-demand*.  There are separate deep-learning models for the image and audio portions of the service, but the experience is seamless for the user.\n",
    "\n",
    "Recently the management team has decided to expand its services to additional markets. The Singapore market demonstrated a strong initial adoption, with increasing revenue and traction from the subscribers in the first 4 months.  However, subscriptions & engagement have stagnated. The data shows that after about 4 months there is a major drop off in watch-time and subscribers are quickly dropping off the platform.\n",
    "\n",
    "You are new to the data science team and management has tasked you with figuring this out.  There have been discussions about launching various marketing campaigns, modifying the pricing model, refining the product\n",
    "and more, with the goal of driving the product growth in the new markets.  Ultimately the business opportunity here is to use these levers to improve engagement and sales. Inside the data there is a story to tell and your job is to pull it out.\n",
    "\n",
    "\n",
    "## Part 1: data ingestion\n",
    "\n",
    "The data team is busy so they did not have time to help much, but one of the team members cooked up a data ingestion script that was suppose to help you get started.  The user specific data you will need is stored in a data base and in another file there is some streaming data.  Have a look at the file `kalvanize-data-ingestor.py` and use it to get a staged csv file to begin your analysis."
   ]
  },
  {
   "cell_type": "code",
   "execution_count": 4,
   "metadata": {},
   "outputs": [
    {
     "name": "stdout",
     "output_type": "stream",
     "text": [
      "...successfully connected to db\n",
      "... removed 7 duplicate rows in db data\n",
      "... removed 1164 missing stream ids\n",
      "done\n"
     ]
    }
   ],
   "source": [
    "## run the ingestor here\n",
    "\n",
    "!python kalvanize-data-ingestor.py -d kalvanize-customers.db -s kalvanize-streams.csv"
   ]
  },
  {
   "cell_type": "markdown",
   "metadata": {},
   "source": [
    "## Part 2: EDA - summarize the data\n",
    "\n",
    "You are going to want to spend a little time getting to know the data.  Are there any missing values? How much data and what what types of variables are you working with etc.  Remember to use visuals here."
   ]
  },
  {
   "cell_type": "code",
   "execution_count": 5,
   "metadata": {},
   "outputs": [],
   "source": [
    "## your code here"
   ]
  },
  {
   "cell_type": "markdown",
   "metadata": {},
   "source": [
    "## Part 3: EDA - Quality Assurance\n",
    "\n",
    "Implementation of checks for Quality Assurance\n",
    "\n",
    "1. Remove any repeat customers based on customer_id\n",
    "2. Remove stream data that do not have an associated stream_id\n",
    "3. Check for missing values\n",
    "\n",
    "In the interest of time.  This stage has already been done for you in the data ingestion script.  It is still a good practice to have a couple of quality assurance checks present in your code."
   ]
  },
  {
   "cell_type": "code",
   "execution_count": 8,
   "metadata": {},
   "outputs": [],
   "source": [
    "## your code here"
   ]
  },
  {
   "cell_type": "markdown",
   "metadata": {},
   "source": [
    "## Part 4: EDA - Tell the story\n",
    "\n",
    "\n",
    "   >Goal: communicate EDA findings in an upcoming meeting with product managers and team leads.  \n",
    "   You should be able to explain using visualizations what factor(s) are the likely \n",
    "   cause of the market situation in Singapore.\n",
    "\n",
    "Recall that you are trying to identify the factors that contribute to the unique market situation in Singapore.  Singapore has a higher rate of churn than the other markets and there is something in the data that, once uncovered, will allow you to make a testable hypothesis.  \n",
    "\n",
    "In practice your deliverable would have \n",
    "\n",
    "1. Descriptions of the data along with a summary of the business opportunity.  \n",
    "2. The story details through the lens of an investigation  \n",
    "3. Some discussion and suggestions about next steps in the process\n",
    "\n",
    "In this part let's focus on the story details and the investigation.\n",
    "\n",
    "HINT: You can use hypothesis testing and or visualization to figure out what is going on.  There is a difference between the two markets and there are several ways to tell the story."
   ]
  },
  {
   "cell_type": "code",
   "execution_count": 6,
   "metadata": {},
   "outputs": [],
   "source": [
    "## your investigative visuals\n"
   ]
  },
  {
   "cell_type": "markdown",
   "metadata": {},
   "source": [
    "## Extra Credit\n",
    "\n",
    "Adopt the [plotly time-series tutorial](https://plotly.com/python/time-series/) to monitor the number of streams each day. "
   ]
  },
  {
   "cell_type": "code",
   "execution_count": 9,
   "metadata": {},
   "outputs": [],
   "source": [
    "## your code"
   ]
  },
  {
   "cell_type": "code",
   "execution_count": null,
   "metadata": {},
   "outputs": [],
   "source": []
  }
 ],
 "metadata": {
  "kernelspec": {
   "display_name": "Python 3",
   "language": "python",
   "name": "python3"
  },
  "language_info": {
   "codemirror_mode": {
    "name": "ipython",
    "version": 3
   },
   "file_extension": ".py",
   "mimetype": "text/x-python",
   "name": "python",
   "nbconvert_exporter": "python",
   "pygments_lexer": "ipython3",
   "version": "3.7.7"
  }
 },
 "nbformat": 4,
 "nbformat_minor": 2
}
